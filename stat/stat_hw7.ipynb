{
  "nbformat": 4,
  "nbformat_minor": 0,
  "metadata": {
    "colab": {
      "name": "stat_hw7.ipynb",
      "provenance": [],
      "collapsed_sections": []
    },
    "kernelspec": {
      "name": "python3",
      "display_name": "Python 3"
    },
    "language_info": {
      "name": "python"
    }
  },
  "cells": [
    {
      "cell_type": "markdown",
      "metadata": {
        "id": "hZ1S_4ERowW-"
      },
      "source": [
        "## Задача 1\n",
        "\n",
        "Даны значения величины заработной платы заемщиков банка (zp) и значения их поведенческого кредитного скоринга (ks):\n",
        "\n",
        "zp = [35, 45, 190, 200, 40, 70, 54, 150, 120, 110],\n",
        "\n",
        "ks = [401, 574, 874, 919, 459, 739, 653, 902, 746, 832].\n",
        "\n",
        "Используя математические операции, посчитать коэффициенты линейной регрессии, приняв за X заработную плату (то есть, zp - признак), а за y - значения скорингового балла (то есть, ks - целевая переменная). Произвести расчет как с использованием intercept, так и без."
      ]
    },
    {
      "cell_type": "code",
      "metadata": {
        "colab": {
          "base_uri": "https://localhost:8080/"
        },
        "id": "2tplhixe_P_Y",
        "outputId": "ec3cf8d2-0a33-4b95-a27d-711f62b58a3b"
      },
      "source": [
        "import numpy as np\n",
        "\n",
        "n = 10  # количество наблюдений\n",
        "\n",
        "x = np.array([35, 45, 190, 200, 40, 70, 54, 150, 120, 110], dtype=np.float64)\n",
        "y = np.array([401, 574, 874, 919, 459, 739, 653, 902, 746, 832], dtype=np.float64)\n",
        "\n",
        "b = (np.mean(x*y) - np.mean(x)*np.mean(y)) / (np.mean(x**2) - np.mean(x)**2)\n",
        "a = np.mean(y) - b*np.mean(x)\n",
        "print(f'Коэффициенты регрессии: a={a}, b={b}')\n",
        "\n",
        "r = b * np.std(x) / np.std(y)\n",
        "R2 = r**2\n",
        "print('Коэффициент корреляции', r)\n",
        "print('Коэффициент детерминации', R2)"
      ],
      "execution_count": null,
      "outputs": [
        {
          "output_type": "stream",
          "name": "stdout",
          "text": [
            "Коэффициенты регрессии: a=444.1773573243596, b=2.620538882402765\n",
            "Коэффициент корреляции 0.8874900920739162\n",
            "Коэффициент детерминации 0.7876386635293682\n"
          ]
        }
      ]
    },
    {
      "cell_type": "markdown",
      "metadata": {
        "id": "RgW1rXkEVWCR"
      },
      "source": [
        "С помощью этого уравнения регрессии посчитаем значения, предсказанные моделью кредитного скоринга:"
      ]
    },
    {
      "cell_type": "code",
      "metadata": {
        "id": "1pStjYk9VWCS",
        "colab": {
          "base_uri": "https://localhost:8080/"
        },
        "outputId": "52561963-7aee-46cd-f106-e513b401d2ac"
      },
      "source": [
        "y_pred = a + b * x\n",
        "y_pred"
      ],
      "execution_count": null,
      "outputs": [
        {
          "output_type": "execute_result",
          "data": {
            "text/plain": [
              "array([535.89621821, 562.10160703, 942.07974498, 968.2851338 ,\n",
              "       548.99891262, 627.61507909, 585.68645697, 837.25818968,\n",
              "       758.64202321, 732.43663439])"
            ]
          },
          "metadata": {},
          "execution_count": 2
        }
      ]
    },
    {
      "cell_type": "markdown",
      "metadata": {
        "id": "ymhf8BfBVWCc"
      },
      "source": [
        "Качество модели найдем с помощью средней ошибки аппроксимации $\\overline {A}$:"
      ]
    },
    {
      "cell_type": "code",
      "metadata": {
        "id": "bv3vJejlVWCg",
        "colab": {
          "base_uri": "https://localhost:8080/"
        },
        "outputId": "54727d4a-b8ba-4902-e645-14578f601c08"
      },
      "source": [
        "A_mean = 100 * np.mean(np.abs((y - y_pred) / y))\n",
        "A_mean"
      ],
      "execution_count": null,
      "outputs": [
        {
          "output_type": "execute_result",
          "data": {
            "text/plain": [
              "11.46925184356171"
            ]
          },
          "metadata": {},
          "execution_count": 3
        }
      ]
    },
    {
      "cell_type": "markdown",
      "metadata": {
        "id": "2lpGd6eKVWCw"
      },
      "source": [
        "Так как $\\overline {A}$ равна 11%, модель хорошо описывает эмпирические данные. Для оценки значимости уравнения регрессии воспользуемся F-критерием Фишера. Найдем фактическое значение $F$-критерия ($F_{факт}$):"
      ]
    },
    {
      "cell_type": "code",
      "metadata": {
        "id": "2s_12smQVWC0",
        "colab": {
          "base_uri": "https://localhost:8080/"
        },
        "outputId": "fb3e8630-a4ca-4896-e6c3-fe5d755b0c01"
      },
      "source": [
        "F_fact = (r**2 * (n - 2)) / (1 - r**2)\n",
        "F_fact"
      ],
      "execution_count": null,
      "outputs": [
        {
          "output_type": "execute_result",
          "data": {
            "text/plain": [
              "29.671640859664432"
            ]
          },
          "metadata": {},
          "execution_count": 4
        }
      ]
    },
    {
      "cell_type": "markdown",
      "metadata": {
        "id": "tRrc_mzoVWC9"
      },
      "source": [
        "При 5 % уровне значимости и степенях свободы $k_1 = 1$ и $k_2 = 10 - 2 = 8$ табличное значение критерия: $F_{кр} = 5.32$.\n",
        "\n",
        "Так как $F_{факт} = 29.67 > F_{кр} = 5.32$, уравнение регрессии статистически значимо."
      ]
    },
    {
      "cell_type": "markdown",
      "metadata": {
        "id": "KzUe1mDhVWEk"
      },
      "source": [
        "Поместим исходные и предсказанные данные в датафрейм **df** и отсортируем его по значению x:"
      ]
    },
    {
      "cell_type": "code",
      "metadata": {
        "id": "Addxji38VWEm"
      },
      "source": [
        "import pandas as pd\n",
        "\n",
        "df = pd.DataFrame({'x': x, 'y': y, 'y_pred': y_pred}, columns=['x', 'y', 'y_pred'])\n",
        "df = df.sort_values('x')"
      ],
      "execution_count": null,
      "outputs": []
    },
    {
      "cell_type": "markdown",
      "metadata": {
        "id": "FZfKDj9OVWE0"
      },
      "source": [
        "Построим на одном графике исходные данные и теоретическую прямую, построенную по уравнению регрессии:"
      ]
    },
    {
      "cell_type": "code",
      "metadata": {
        "id": "V82ew1-jVWE3",
        "colab": {
          "base_uri": "https://localhost:8080/",
          "height": 279
        },
        "outputId": "532edd39-a0a7-408b-af32-f76743d776b1"
      },
      "source": [
        "import matplotlib.pyplot as plt\n",
        "\n",
        "plt.scatter(df['x'], df['y'])\n",
        "plt.plot(df['x'], df['y_pred'])\n",
        "plt.xlabel('Значение зарплаты')\n",
        "plt.ylabel('Кредитный скоринг')\n",
        "plt.show()"
      ],
      "execution_count": null,
      "outputs": [
        {
          "output_type": "display_data",
          "data": {
            "image/png": "[encoded data removed]",
            "text/plain": [
              "<Figure size 432x288 with 1 Axes>"
            ]
          },
          "metadata": {
            "needs_background": "light"
          }
        }
      ]
    },
    {
      "cell_type": "markdown",
      "metadata": {
        "id": "5KY7N9KoFD_j"
      },
      "source": [
        "## Задача 1.б\n",
        "\n",
        "Решим аналогичную задачу, но без расчета intercept."
      ]
    },
    {
      "cell_type": "code",
      "metadata": {
        "colab": {
          "base_uri": "https://localhost:8080/"
        },
        "id": "QZyHW-6YFQl-",
        "outputId": "27882bce-4fea-4105-f0c3-1626186af2b3"
      },
      "source": [
        "import numpy as np\n",
        "\n",
        "n = 10  # количество наблюдений\n",
        "\n",
        "x = np.array([35, 45, 190, 200, 40, 70, 54, 150, 120, 110], dtype=np.float64)\n",
        "y = np.array([401, 574, 874, 919, 459, 739, 653, 902, 746, 832], dtype=np.float64)\n",
        "\n",
        "a = np.mean(x*y) / np.mean(x**2)\n",
        "print(f'Коэффициент регрессии: a={a}')"
      ],
      "execution_count": null,
      "outputs": [
        {
          "output_type": "stream",
          "name": "stdout",
          "text": [
            "Коэффициент регрессии: a=5.889820420132688\n"
          ]
        }
      ]
    },
    {
      "cell_type": "markdown",
      "metadata": {
        "id": "7-rZesnxFhlE"
      },
      "source": [
        "С помощью этого уравнения регрессии посчитаем значения, предсказанные моделью кредитного скоринга:"
      ]
    },
    {
      "cell_type": "code",
      "metadata": {
        "colab": {
          "base_uri": "https://localhost:8080/"
        },
        "id": "caPp3LdXFhlf",
        "outputId": "4c2b9521-723a-4f82-c1ff-a176bd79a15f"
      },
      "source": [
        "y_pred = a * x\n",
        "y_pred"
      ],
      "execution_count": null,
      "outputs": [
        {
          "output_type": "execute_result",
          "data": {
            "text/plain": [
              "array([ 206.1437147 ,  265.04191891, 1119.06587983, 1177.96408403,\n",
              "        235.59281681,  412.28742941,  318.05030269,  883.47306302,\n",
              "        706.77845042,  647.88024621])"
            ]
          },
          "metadata": {},
          "execution_count": 8
        }
      ]
    },
    {
      "cell_type": "markdown",
      "metadata": {
        "id": "EUYVr4b3Fhlg"
      },
      "source": [
        "Качество модели найдем с помощью средней ошибки аппроксимации $\\overline {A}$:"
      ]
    },
    {
      "cell_type": "code",
      "metadata": {
        "colab": {
          "base_uri": "https://localhost:8080/"
        },
        "id": "rsAU6rTnFhlh",
        "outputId": "de7c8045-cc1d-4edf-a862-5367fb90a451"
      },
      "source": [
        "A_mean = 100 * np.mean(np.abs((y - y_pred) / y))\n",
        "A_mean"
      ],
      "execution_count": null,
      "outputs": [
        {
          "output_type": "execute_result",
          "data": {
            "text/plain": [
              "33.225451661167305"
            ]
          },
          "metadata": {},
          "execution_count": 9
        }
      ]
    },
    {
      "cell_type": "markdown",
      "metadata": {
        "id": "tQpPkFeZFhli"
      },
      "source": [
        "Так как $\\overline {A}$ равна 33%, модель хуже описывает эмпирические данные, чем вариант с intercept."
      ]
    },
    {
      "cell_type": "markdown",
      "metadata": {
        "id": "K0JxquqsFhlj"
      },
      "source": [
        "Поместим исходные и предсказанные данные в датафрейм **df** и отсортируем его по значению x:"
      ]
    },
    {
      "cell_type": "code",
      "metadata": {
        "id": "ibL4Zi3eFhlj"
      },
      "source": [
        "import pandas as pd\n",
        "\n",
        "df = pd.DataFrame({'x': x, 'y': y, 'y_pred': y_pred}, columns=['x', 'y', 'y_pred'])\n",
        "df = df.sort_values('x')"
      ],
      "execution_count": null,
      "outputs": []
    },
    {
      "cell_type": "markdown",
      "metadata": {
        "id": "8iO8LLTeFhlk"
      },
      "source": [
        "Построим на одном графике исходные данные и теоретическую прямую, построенную по уравнению регрессии:"
      ]
    },
    {
      "cell_type": "code",
      "metadata": {
        "colab": {
          "base_uri": "https://localhost:8080/",
          "height": 279
        },
        "id": "rjK-p1_jFhlk",
        "outputId": "9d36b2fd-98e3-4c51-82f0-5f958a11e708"
      },
      "source": [
        "import matplotlib.pyplot as plt\n",
        "\n",
        "plt.scatter(df['x'], df['y'])\n",
        "plt.plot(df['x'], df['y_pred'])\n",
        "plt.xlabel('Значение зарплаты')\n",
        "plt.ylabel('Кредитный скоринг')\n",
        "plt.show()"
      ],
      "execution_count": null,
      "outputs": [
        {
          "output_type": "display_data",
          "data": {
            "image/png": "[encoded data removed]",
            "text/plain": [
              "<Figure size 432x288 with 1 Axes>"
            ]
          },
          "metadata": {
            "needs_background": "light"
          }
        }
      ]
    },
    {
      "cell_type": "markdown",
      "metadata": {
        "id": "0MIlLK1Zaujl"
      },
      "source": [
        "## Задача 2\n",
        "\n",
        "Посчитать коэффициент линейной регрессии при заработной плате (zp), используя градиентный спуск (без intercept)."
      ]
    },
    {
      "cell_type": "code",
      "metadata": {
        "id": "aLdfjzhiaujo"
      },
      "source": [
        "import numpy as np\n",
        "\n",
        "\n",
        "def mse(b1, x, y, n):\n",
        "    return np.sum((b1*x-y)**2)/n"
      ],
      "execution_count": null,
      "outputs": []
    },
    {
      "cell_type": "code",
      "metadata": {
        "colab": {
          "base_uri": "https://localhost:8080/"
        },
        "id": "18iC4dD0cMBf",
        "outputId": "2bf97fb1-bb0d-4ce9-c044-89a3904e5d6d"
      },
      "source": [
        "x = np.array([35, 45, 190, 200, 40, 70, 54, 150, 120, 110], dtype=np.float64)\n",
        "y = np.array([401, 574, 874, 919, 459, 739, 653, 902, 746, 832], dtype=np.float64)\n",
        "\n",
        "alpha = 0.000001  # шаг градиентного спуска\n",
        "n = 10  # количество наблюдений\n",
        "\n",
        "b1 = 1\n",
        "\n",
        "for i in range(5000):\n",
        "    b1 -= alpha*(2/n)*np.sum((b1*x-y)*x)\n",
        "    if i % 500 == 0:\n",
        "        print(f'Iteration {i}, b1={b1}, mse={mse(b1, x, y, n)}')"
      ],
      "execution_count": null,
      "outputs": [
        {
          "output_type": "stream",
          "name": "stdout",
          "text": [
            "Iteration 0, b1=1.1347302, mse=368017.9491755833\n",
            "Iteration 500, b1=5.8898163455368975, mse=56516.85841594815\n",
            "Iteration 1000, b1=5.8898204201291975, mse=56516.8584157194\n",
            "Iteration 1500, b1=5.889820420132673, mse=56516.85841571943\n",
            "Iteration 2000, b1=5.889820420132673, mse=56516.85841571943\n",
            "Iteration 2500, b1=5.889820420132673, mse=56516.85841571943\n",
            "Iteration 3000, b1=5.889820420132673, mse=56516.85841571943\n",
            "Iteration 3500, b1=5.889820420132673, mse=56516.85841571943\n",
            "Iteration 4000, b1=5.889820420132673, mse=56516.85841571943\n",
            "Iteration 4500, b1=5.889820420132673, mse=56516.85841571943\n"
          ]
        }
      ]
    },
    {
      "cell_type": "markdown",
      "metadata": {
        "id": "m3JSWWMUaujp"
      },
      "source": [
        "Построим уравнение регрессии и посчитаем значения, предсказанные моделью кредитного скоринга:"
      ]
    },
    {
      "cell_type": "code",
      "metadata": {
        "colab": {
          "base_uri": "https://localhost:8080/"
        },
        "id": "mK3oA4J1aujq",
        "outputId": "93b40fc2-6463-4018-8e4b-0ccc259369c1"
      },
      "source": [
        "y_pred = b1 * x\n",
        "y_pred"
      ],
      "execution_count": null,
      "outputs": [
        {
          "output_type": "execute_result",
          "data": {
            "text/plain": [
              "array([ 206.1437147 ,  265.04191891, 1119.06587983, 1177.96408403,\n",
              "        235.59281681,  412.28742941,  318.05030269,  883.47306302,\n",
              "        706.77845042,  647.88024621])"
            ]
          },
          "metadata": {},
          "execution_count": 14
        }
      ]
    },
    {
      "cell_type": "markdown",
      "metadata": {
        "id": "dArBYcN0aujq"
      },
      "source": [
        "Качество модели найдем с помощью средней ошибки аппроксимации $\\overline {A}$:"
      ]
    },
    {
      "cell_type": "code",
      "metadata": {
        "colab": {
          "base_uri": "https://localhost:8080/"
        },
        "id": "3GjZoc6waujr",
        "outputId": "b8cb3fa7-8abe-4a7d-d6a4-6893c1537f34"
      },
      "source": [
        "A_mean = 100 * np.mean(np.abs((y - y_pred) / y))\n",
        "A_mean"
      ],
      "execution_count": null,
      "outputs": [
        {
          "output_type": "execute_result",
          "data": {
            "text/plain": [
              "33.22545166116737"
            ]
          },
          "metadata": {},
          "execution_count": 15
        }
      ]
    },
    {
      "cell_type": "markdown",
      "metadata": {
        "id": "NBUw8mPHaujt"
      },
      "source": [
        "Поместим исходные и предсказанные данные в датафрейм **df** и отсортируем его по значению x:"
      ]
    },
    {
      "cell_type": "code",
      "metadata": {
        "id": "pUfq0-b_auju"
      },
      "source": [
        "import pandas as pd\n",
        "\n",
        "df = pd.DataFrame({'x': x, 'y': y, 'y_pred': y_pred}, columns=['x', 'y', 'y_pred'])\n",
        "df = df.sort_values('x')"
      ],
      "execution_count": null,
      "outputs": []
    },
    {
      "cell_type": "markdown",
      "metadata": {
        "id": "sOh11D1-auju"
      },
      "source": [
        "Построим на одном графике исходные данные и теоретическую прямую, построенную по уравнению регрессии:"
      ]
    },
    {
      "cell_type": "code",
      "metadata": {
        "colab": {
          "base_uri": "https://localhost:8080/",
          "height": 279
        },
        "id": "75shO_2jaujw",
        "outputId": "54bc760b-e0ac-4e0c-89c7-8afd85e4361b"
      },
      "source": [
        "import matplotlib.pyplot as plt\n",
        "\n",
        "plt.scatter(df['x'], df['y'])\n",
        "plt.plot(df['x'], df['y_pred'])\n",
        "plt.xlabel('Значение зарплаты')\n",
        "plt.ylabel('Кредитный скоринг')\n",
        "plt.show()"
      ],
      "execution_count": null,
      "outputs": [
        {
          "output_type": "display_data",
          "data": {
            "image/png": "[encoded data removed]",
            "text/plain": [
              "<Figure size 432x288 with 1 Axes>"
            ]
          },
          "metadata": {
            "needs_background": "light"
          }
        }
      ]
    },
    {
      "cell_type": "markdown",
      "metadata": {
        "id": "DAcEKY5CfJx1"
      },
      "source": [
        "## Задача 3*\n",
        "\n",
        "Посчитать коэффициент линейной регрессии при заработной плате (zp), используя градиентный спуск (с intercept)."
      ]
    },
    {
      "cell_type": "code",
      "metadata": {
        "id": "zNUFdkD1fJx9"
      },
      "source": [
        "import numpy as np\n",
        "\n",
        "\n",
        "def mse2(b1, b2, x, y, n):\n",
        "    return np.sum((b1*x+b2-y)**2)/n"
      ],
      "execution_count": null,
      "outputs": []
    },
    {
      "cell_type": "code",
      "metadata": {
        "colab": {
          "base_uri": "https://localhost:8080/"
        },
        "id": "36qWdfGRfJx9",
        "outputId": "b0ac3dd8-48d7-4edd-9aba-70f80519f102"
      },
      "source": [
        "x = np.array([35, 45, 190, 200, 40, 70, 54, 150, 120, 110], dtype=np.float64)\n",
        "y = np.array([401, 574, 874, 919, 459, 739, 653, 902, 746, 832], dtype=np.float64)\n",
        "\n",
        "alpha = 0.00005  # шаг градиентного спуска\n",
        "n = 10  # количество наблюдений\n",
        "\n",
        "b1 = 100\n",
        "b2 = 100\n",
        "\n",
        "for i in range(1000000):\n",
        "    b1_grad = alpha*(2/n)*np.sum((b1*x+b2-y)*x)\n",
        "    b2_grad = alpha*(2/n)*np.sum((b1*x+b2-y))\n",
        "    b1 -= b1_grad\n",
        "    b2 -= b2_grad\n",
        "    if i % 100000 == 0:\n",
        "        print(f'Iteration {i}, b1={b1}, b2={b2}, mse={mse2(b1, b2, x, y, n)}')"
      ],
      "execution_count": null,
      "outputs": [
        {
          "output_type": "stream",
          "name": "stdout",
          "text": [
            "Iteration 0, b1=-30.66583, b2=99.04699, mse=17719609.200831573\n",
            "Iteration 100000, b1=2.821424174503612, b2=416.8847995298088, mse=6659.365060916854\n",
            "Iteration 200000, b1=2.636436832945594, b2=442.01743944551737, mse=6471.597610192917\n",
            "Iteration 300000, b1=2.6217970373867314, b2=444.0064226219965, mse=6470.42161292859\n",
            "Iteration 400000, b1=2.6206384520900294, b2=444.1638296468686, mse=6470.414247596846\n",
            "Iteration 500000, b1=2.6205467622925833, b2=444.1762867514669, mse=6470.414201467393\n",
            "Iteration 600000, b1=2.620539506012884, b2=444.1772725998134, mse=6470.414201178484\n",
            "Iteration 700000, b1=2.6205389317549366, b2=444.1773506193043, mse=6470.41420117667\n",
            "Iteration 800000, b1=2.6205388863084735, b2=444.17735679372464, mse=6470.414201176658\n",
            "Iteration 900000, b1=2.620538882711903, b2=444.17735728235965, mse=6470.414201176663\n"
          ]
        }
      ]
    },
    {
      "cell_type": "markdown",
      "metadata": {
        "id": "QadFxAkufJx9"
      },
      "source": [
        "Построим уравнение регрессии и посчитаем значения, предсказанные моделью кредитного скоринга:"
      ]
    },
    {
      "cell_type": "code",
      "metadata": {
        "colab": {
          "base_uri": "https://localhost:8080/"
        },
        "id": "oGxzqwoZfJx-",
        "outputId": "3c2feb54-e707-43c5-ff6a-ca1a9acf5e09"
      },
      "source": [
        "y_pred = b1 * x + b2\n",
        "y_pred"
      ],
      "execution_count": null,
      "outputs": [
        {
          "output_type": "execute_result",
          "data": {
            "text/plain": [
              "array([535.89621821, 562.10160703, 942.07974498, 968.28513381,\n",
              "       548.99891262, 627.61507909, 585.68645697, 837.25818969,\n",
              "       758.64202321, 732.43663439])"
            ]
          },
          "metadata": {},
          "execution_count": 20
        }
      ]
    },
    {
      "cell_type": "markdown",
      "metadata": {
        "id": "Ms2ZBxFffJx-"
      },
      "source": [
        "Качество модели найдем с помощью средней ошибки аппроксимации $\\overline {A}$:"
      ]
    },
    {
      "cell_type": "code",
      "metadata": {
        "colab": {
          "base_uri": "https://localhost:8080/"
        },
        "id": "7aBFYdjQfJx-",
        "outputId": "5660d651-90cd-44b3-809a-0f3261999f3a"
      },
      "source": [
        "A_mean = 100 * np.mean(np.abs((y - y_pred) / y))\n",
        "A_mean"
      ],
      "execution_count": null,
      "outputs": [
        {
          "output_type": "execute_result",
          "data": {
            "text/plain": [
              "11.469251843571"
            ]
          },
          "metadata": {},
          "execution_count": 21
        }
      ]
    },
    {
      "cell_type": "markdown",
      "metadata": {
        "id": "s9j21BSefJx-"
      },
      "source": [
        "Поместим исходные и предсказанные данные в датафрейм **df** и отсортируем его по значению x:"
      ]
    },
    {
      "cell_type": "code",
      "metadata": {
        "id": "uDvn8kPAfJx-"
      },
      "source": [
        "import pandas as pd\n",
        "\n",
        "df = pd.DataFrame({'x': x, 'y': y, 'y_pred': y_pred}, columns=['x', 'y', 'y_pred'])\n",
        "df = df.sort_values('x')"
      ],
      "execution_count": null,
      "outputs": []
    },
    {
      "cell_type": "markdown",
      "metadata": {
        "id": "DFirh0H7fJx-"
      },
      "source": [
        "Построим на одном графике исходные данные и теоретическую прямую, построенную по уравнению регрессии:"
      ]
    },
    {
      "cell_type": "code",
      "metadata": {
        "colab": {
          "base_uri": "https://localhost:8080/",
          "height": 279
        },
        "id": "tCQJL6KtfJx_",
        "outputId": "a1efaad4-6258-4bc8-9b6a-378edeea5496"
      },
      "source": [
        "import matplotlib.pyplot as plt\n",
        "\n",
        "plt.scatter(df['x'], df['y'])\n",
        "plt.plot(df['x'], df['y_pred'])\n",
        "plt.xlabel('Значение зарплаты')\n",
        "plt.ylabel('Кредитный скоринг')\n",
        "plt.show()"
      ],
      "execution_count": null,
      "outputs": [
        {
          "output_type": "display_data",
          "data": {
            "image/png": "[encoded data removed]",
            "text/plain": [
              "<Figure size 432x288 with 1 Axes>"
            ]
          },
          "metadata": {
            "needs_background": "light"
          }
        }
      ]
    }
  ]
}