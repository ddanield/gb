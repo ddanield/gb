{
 "nbformat": 4,
 "nbformat_minor": 0,
 "metadata": {
  "colab": {
   "name": "stat_hw6.ipynb",
   "provenance": [],
   "collapsed_sections": []
  },
  "kernelspec": {
   "name": "python3",
   "display_name": "Python 3"
  },
  "language_info": {
   "name": "python"
  }
 },
 "cells": [
  {
   "cell_type": "markdown",
   "metadata": {
    "id": "hZ1S_4ERowW-"
   },
   "source": [
    "## Задача 1\n",
    "\n",
    "Даны значения величины заработной платы заемщиков банка (zp) и значения их поведенческого кредитного скоринга (ks):\n",
    "\n",
    "zp = [35, 45, 190, 200, 40, 70, 54, 150, 120, 110],\n",
    "\n",
    "ks = [401, 574, 874, 919, 459, 739, 653, 902, 746, 832].\n",
    "\n",
    "Найдите ковариацию этих двух величин с помощью элементарных действий, а затем с помощью функции cov из numpy. Полученные значения должны быть равны.\n",
    "\n",
    "Найдите коэффициент корреляции Пирсона с помощью ковариации и среднеквадратичных отклонений двух признаков, а затем с использованием функций из библиотек numpy и pandas.\n",
    "\n",
    "### Решение\n",
    "\n",
    "Ковариацию можно вычислить по формуле:\n",
    "\n",
    "$$\\mbox{cov}_{XY}=M(XY)-M(X)M(Y)$$\n",
    "\n",
    "Коэффициент корреляции Пирсона можно вычислить по формуле:\n",
    "\n",
    "$$r_{XY}=\\frac{\\mbox{cov}_{XY}}{\\sigma_x\\sigma_y}$$"
   ]
  },
  {
   "cell_type": "code",
   "metadata": {
    "colab": {
     "base_uri": "https://localhost:8080/"
    },
    "id": "50n0NB4kXWZy",
    "outputId": "d2019b2b-4f57-4dcb-f93f-0c3a8d40d87e"
   },
   "source": [
    "import numpy as np\n",
    "import pandas as pd\n",
    "\n",
    "zp = np.array([35, 45, 190, 200, 40, 70, 54, 150, 120, 110])\n",
    "ks = np.array([401, 574, 874, 919, 459, 739, 653, 902, 746, 832])\n",
    "\n",
    "cov = np.mean(zp*ks) - np.mean(zp)*np.mean(ks)\n",
    "corrcoef = cov / (np.std(zp)*np.std(ks))\n",
    "print('Calculated cov:', cov)\n",
    "print('Calculated corrcoef:', corrcoef)\n",
    "\n",
    "df = pd.DataFrame(data=np.column_stack((zp,ks)), columns=['zp', 'ks'])\n",
    "print('Pandas cov:', df.cov(ddof=0)['zp'][1])\n",
    "print('Pandas corrcoef:', df.corr()['zp'][1])\n",
    "\n",
    "print('Numpy cov:', np.cov(zp, ks, ddof=0)[0][1])\n",
    "print('Numpy corrcoef:', np.corrcoef(zp, ks)[0][1])"
   ],
   "execution_count": null,
   "outputs": [
    {
     "output_type": "stream",
     "name": "stdout",
     "text": [
      "Calculated cov: 9157.839999999997\n",
      "Calculated corrcoef: 0.8874900920739158\n",
      "Pandas cov: 9157.84\n",
      "Pandas corrcoef: 0.8874900920739162\n",
      "Numpy cov: 9157.84\n",
      "Numpy corrcoef: 0.8874900920739162\n"
     ]
    }
   ]
  },
  {
   "cell_type": "markdown",
   "metadata": {
    "id": "zTQSaV_gjGA_"
   },
   "source": [
    "## Задача 2\n",
    "\n",
    "Измерены значения IQ выборки студентов, обучающихся в местных технических вузах:\n",
    "131, 125, 115, 122, 131, 115, 107, 99, 125, 111.\n",
    "Известно, что в генеральной совокупности IQ распределен нормально.\n",
    "Найдите доверительный интервал для математического ожидания с надежностью 0.95.\n",
    "\n",
    "### Решение\n",
    "\n",
    "Используем распределение Стьюдента.\n",
    "\n",
    "$$M\\pm t_{\\alpha/2}\\cdot\\frac{\\sigma}{\\sqrt{n}}$$ - границы доверительного интервала\n",
    "\n",
    "$t_{\\alpha/2}=t_{0.025}=2.262$\n",
    "\n",
    "$M=118.1$\n",
    "\n",
    "$\\sigma=10.5457$\n",
    "\n",
    "$M - t_{\\alpha/2}\\cdot\\frac{\\sigma}{\\sqrt{n}}=118.1-2.262\\cdot10.5457/\\sqrt{10}\\approx 110.557$\n",
    "\n",
    "$M + t_{\\alpha/2}\\cdot\\frac{\\sigma}{\\sqrt{n}}=118.1+2.262\\cdot10.5457/\\sqrt{10}\\approx 125.643$\n",
    "\n",
    "Ответ: $[110.557, \\, 125.643]$"
   ]
  },
  {
   "cell_type": "code",
   "metadata": {
    "colab": {
     "base_uri": "https://localhost:8080/"
    },
    "id": "uhlTq21zkp73",
    "outputId": "db735199-735a-4b07-9b05-808caf425b2b"
   },
   "source": [
    "import numpy as np\n",
    "from scipy import stats\n",
    "\n",
    "x = np.array([131, 125, 115, 122, 131, 115, 107, 99, 125, 111])\n",
    "print(f'mean={np.mean(x)}, std={np.std(x, ddof=1)}')\n",
    "\n",
    "stats.t.interval(0.95, len(x)-1, loc=np.mean(x), scale=stats.sem(x))"
   ],
   "execution_count": null,
   "outputs": [
    {
     "output_type": "stream",
     "name": "stdout",
     "text": [
      "mean=118.1, std=10.54566788359614\n"
     ]
    },
    {
     "output_type": "execute_result",
     "data": {
      "text/plain": [
       "(110.55608365158724, 125.64391634841274)"
      ]
     },
     "metadata": {},
     "execution_count": 47
    }
   ]
  },
  {
   "cell_type": "markdown",
   "metadata": {
    "id": "4kmggOfqnzpT"
   },
   "source": [
    "## Задача 3\n",
    "\n",
    "Известно, что рост футболистов в сборной распределен нормально с дисперсией генеральной совокупности, равной 25 кв.см. Объем выборки равен 27,\n",
    "среднее выборочное составляет 174.2. Найдите доверительный интервал для математического ожидания с надежностью 0.95.\n",
    "\n",
    "### Решение\n",
    "\n",
    "Используем нормальное распределение.\n",
    "\n",
    "$$M\\pm Z_{\\alpha/2}\\cdot\\frac{\\sigma}{\\sqrt{n}}$$ - границы доверительного интервала\n",
    "\n",
    "$Z_{\\alpha/2}=Z_{0.025}=-1.96$\n",
    "\n",
    "$M + Z_{\\alpha/2}\\cdot\\frac{\\sigma}{\\sqrt{n}}=174.2-1.96\\cdot5/\\sqrt{27}\\approx 172.314$\n",
    "\n",
    "$M - Z_{\\alpha/2}\\cdot\\frac{\\sigma}{\\sqrt{n}}=174.2+1.96\\cdot5/\\sqrt{27}\\approx 176.086$\n",
    "\n",
    "Ответ: $[172.314,\\, 176.086]$"
   ]
  },
  {
   "cell_type": "code",
   "metadata": {
    "colab": {
     "base_uri": "https://localhost:8080/"
    },
    "id": "e2xwDNsrn2sS",
    "outputId": "eefbc27d-8dd2-4ddb-a85d-b46a3f69d454"
   },
   "source": [
    "import numpy as np\n",
    "from scipy import stats\n",
    "\n",
    "mean = 174.2\n",
    "variance = 25\n",
    "n = 27\n",
    "stats.norm.interval(0.95, loc=mean, scale=np.sqrt(variance)/np.sqrt(n))"
   ],
   "execution_count": null,
   "outputs": [
    {
     "output_type": "execute_result",
     "data": {
      "text/plain": [
       "(172.3140237765397, 176.08597622346028)"
      ]
     },
     "metadata": {},
     "execution_count": 52
    }
   ]
  }
 ]
}