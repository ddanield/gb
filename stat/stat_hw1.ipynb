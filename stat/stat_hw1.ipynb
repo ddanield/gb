{
  "nbformat": 4,
  "nbformat_minor": 0,
  "metadata": {
    "colab": {
      "name": "stat_hw1.ipynb",
      "provenance": [],
      "collapsed_sections": []
    },
    "kernelspec": {
      "name": "python3",
      "display_name": "Python 3"
    },
    "language_info": {
      "name": "python"
    }
  },
  "cells": [
    {
      "cell_type": "markdown",
      "metadata": {
        "id": "hZ1S_4ERowW-"
      },
      "source": [
        "## Задача 1.a\n",
        "\n",
        "Из колоды в 52 карты извлекаются случайным образом 4 карты.\n",
        "\n",
        "Найти вероятность того, что все карты - крести.\n",
        "\n",
        "### Решение\n",
        "\n",
        "Так как каждая масть в колоде представлена 13 картами, то вероятность выпадания крести при случайном выборе карты составляет $\\frac{13}{52}=\\frac{1}{4}$, соответственно, при случайном выборе 4 карт - $(\\frac{1}{4})^4=\\frac{1}{256}=0.00390625$"
      ]
    },
    {
      "cell_type": "code",
      "metadata": {
        "colab": {
          "base_uri": "https://localhost:8080/"
        },
        "id": "V4PbSkNPjJHy",
        "outputId": "3e519e7f-4c67-41d5-a6af-e8eee6992bc2"
      },
      "source": [
        "# Проверим вычислительно, представим, что крести имеют номер 0..12 включительно\n",
        "import numpy as np\n",
        "\n",
        "cards = list(range(0, 52))\n",
        "clubs = set(range(13))\n",
        "\n",
        "cases = 1000000\n",
        "four_clubs = 0\n",
        "for _ in range(cases):\n",
        "    choiced_cards = np.random.choice(cards, 4, replace=False)\n",
        "    if len(set(choiced_cards) & clubs) == 4:\n",
        "        four_clubs += 1\n",
        "\n",
        "print(four_clubs/cases)"
      ],
      "execution_count": 15,
      "outputs": [
        {
          "output_type": "stream",
          "name": "stdout",
          "text": [
            "0.002617\n"
          ]
        }
      ]
    },
    {
      "cell_type": "markdown",
      "metadata": {
        "id": "ZbEm3hPrSznl"
      },
      "source": [
        "## Задача 1.б\n",
        "\n",
        "Из колоды в 52 карты извлекаются случайным образом 4 карты.\n",
        "\n",
        "Найти вероятность, что среди 4-х карт окажется хотя бы один туз.\n",
        "\n",
        "### Решение\n",
        "\n",
        "Так как в колоде присутсвует 4 туза, то вероятность выпадания туза при случайном выборе карты составляет $\\frac{4}{52}=\\frac{1}{13}$, соответственно, при случайном выборе 4 карт - $(\\frac{1}{13})\\cdot4=\\frac{4}{13}=0.30(769230)$"
      ]
    },
    {
      "cell_type": "code",
      "metadata": {
        "colab": {
          "base_uri": "https://localhost:8080/"
        },
        "id": "ioSJ9zW5S26m",
        "outputId": "38ca0d33-60ca-44b7-897d-f4cdf1f0031b"
      },
      "source": [
        "# Проверим вычислительно\n",
        "import numpy as np\n",
        "\n",
        "cards = list(range(0, 52))\n",
        "aces = {0, 13, 26, 39}\n",
        "\n",
        "cases = 1000000\n",
        "found_ace = 0\n",
        "for _ in range(cases):\n",
        "    choiced_cards = np.random.choice(cards, 4, replace=False)\n",
        "    if set(choiced_cards) & aces:\n",
        "        found_ace += 1\n",
        "\n",
        "print(found_ace/cases)"
      ],
      "execution_count": 18,
      "outputs": [
        {
          "output_type": "stream",
          "name": "stdout",
          "text": [
            "0.281543\n"
          ]
        }
      ]
    },
    {
      "cell_type": "markdown",
      "metadata": {
        "id": "W6GcHLP-i2V8"
      },
      "source": [
        "## Задача 2\n",
        "\n",
        "На входной двери подъезда установлен кодовый замок, содержащий десять кнопок с цифрами от 0 до 9. Код содержит три цифры, которые нужно нажать одновременно. Какова вероятность того, что человек, не знающий код, откроет дверь с первой попытки?\n",
        "\n",
        "### Решение\n",
        "\n",
        "Всего существует 1000 вариантов комбинаций (от 000 до 999 включительно), соответственно, вероятность подобрать код случайным образом равна $\\frac{1}{1000}=0.001$\n"
      ]
    },
    {
      "cell_type": "code",
      "metadata": {
        "colab": {
          "base_uri": "https://localhost:8080/"
        },
        "id": "kLamTADjV9Ls",
        "outputId": "f245a5c8-85ee-40de-a170-2f594909a04c"
      },
      "source": [
        "# Проверим вычислительно\n",
        "import numpy as np\n",
        "\n",
        "correct_code = 357\n",
        "\n",
        "cases = 1000000\n",
        "found_code = 0\n",
        "for _ in range(cases):\n",
        "    code = np.random.randint(0, 1000)\n",
        "    if code == correct_code:\n",
        "        found_code += 1\n",
        "\n",
        "print(found_code/cases)"
      ],
      "execution_count": 14,
      "outputs": [
        {
          "output_type": "stream",
          "name": "stdout",
          "text": [
            "0.001028\n"
          ]
        }
      ]
    },
    {
      "cell_type": "markdown",
      "metadata": {
        "id": "peMRWyMq_KIq"
      },
      "source": [
        "## Задача 3\n",
        "\n",
        "В ящике имеется 15 деталей, из которых 9 окрашены. Рабочий случайным образом извлекает 3 детали. Какова вероятность того, что все извлеченные детали окрашены?\n",
        "\n",
        "### Решение\n",
        "\n",
        "Вероятность равна $\\frac{9}{15}\\cdot\\frac{8}{14}\\cdot\\frac{7}{13}=0.185$"
      ]
    },
    {
      "cell_type": "code",
      "metadata": {
        "colab": {
          "base_uri": "https://localhost:8080/"
        },
        "id": "X4NCZTqDe9w_",
        "outputId": "1ce7fa88-ceb4-4969-87df-4db4a3b74b58"
      },
      "source": [
        "# Проверим вычислительно\n",
        "import numpy as np\n",
        "\n",
        "painted = set(range(0, 9))\n",
        "items = list(range(0, 15))\n",
        "\n",
        "cases = 1000000\n",
        "found_painted = 0\n",
        "for _ in range(cases):\n",
        "    choiced_items = np.random.choice(items, 3, replace=False)\n",
        "    if len(set(choiced_items) & painted) == 3:\n",
        "        found_painted += 1\n",
        "\n",
        "print(found_painted/cases)"
      ],
      "execution_count": 20,
      "outputs": [
        {
          "output_type": "stream",
          "name": "stdout",
          "text": [
            "0.184457\n"
          ]
        }
      ]
    },
    {
      "cell_type": "markdown",
      "metadata": {
        "id": "bEva8mQjfx1P"
      },
      "source": [
        "## Задача 4\n",
        "\n",
        "В лотерее 100 билетов. Из них 2 выигрышных. Какова вероятность того, что 2 приобретенных билета окажутся выигрышными?\n",
        "\n",
        "### Решение\n",
        "\n",
        "Вероятность равна $\\frac{2}{100}\\cdot\\frac{1}{99}=\\frac{1}{4950}=0.000(20)$"
      ]
    },
    {
      "cell_type": "code",
      "metadata": {
        "colab": {
          "base_uri": "https://localhost:8080/"
        },
        "id": "Ua6eGtBUgS20",
        "outputId": "a5b019d0-16d4-49a4-ba7e-a02f58e2e4e8"
      },
      "source": [
        "# Проверим вычислительно\n",
        "import numpy as np\n",
        "\n",
        "lucky_tickets = {42, 97}\n",
        "tickets = list(range(0, 100))\n",
        "\n",
        "cases = 1000000\n",
        "found_lucky = 0\n",
        "for _ in range(cases):\n",
        "    choiced_tickets = np.random.choice(tickets, 2, replace=False)\n",
        "    if len(set(choiced_tickets) & lucky_tickets) == 2:\n",
        "        found_lucky += 1\n",
        "\n",
        "print(found_lucky/cases)"
      ],
      "execution_count": 21,
      "outputs": [
        {
          "output_type": "stream",
          "name": "stdout",
          "text": [
            "0.000218\n"
          ]
        }
      ]
    }
  ]
}