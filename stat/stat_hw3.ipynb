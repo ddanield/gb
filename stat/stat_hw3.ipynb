{
 "nbformat": 4,
 "nbformat_minor": 0,
 "metadata": {
  "colab": {
   "name": "stat_hw2.ipynb",
   "provenance": [],
   "collapsed_sections": []
  },
  "kernelspec": {
   "name": "python3",
   "display_name": "Python 3"
  },
  "language_info": {
   "name": "python"
  }
 },
 "cells": [
  {
   "cell_type": "markdown",
   "metadata": {
    "id": "hZ1S_4ERowW-",
    "pycharm": {
     "name": "#%% md\n"
    }
   },
   "source": [
    "## Задача 1"
   ]
  }
 ]
}