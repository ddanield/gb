{
  "nbformat": 4,
  "nbformat_minor": 0,
  "metadata": {
    "colab": {
      "name": "stat_hw8.ipynb",
      "provenance": [],
      "collapsed_sections": []
    },
    "kernelspec": {
      "name": "python3",
      "display_name": "Python 3"
    },
    "language_info": {
      "name": "python"
    }
  },
  "cells": [
    {
      "cell_type": "markdown",
      "metadata": {
        "id": "hZ1S_4ERowW-"
      },
      "source": [
        "## Задача 1\n",
        "\n",
        "Провести дисперсионный анализ для определения того, есть ли различия среднего роста среди взрослых футболистов, хоккеистов и штангистов. Даны значения роста в трех группах случайно выбранных спортсменов: Футболисты: 173, 175, 180, 178, 177, 185, 183, 182. Хоккеисты: 177, 179, 180, 188, 177, 172, 171, 184, 180. Штангисты: 172, 173, 169, 177, 166, 180, 178, 177, 172, 166, 170."
      ]
    },
    {
      "cell_type": "markdown",
      "metadata": {
        "id": "B_Ag07g6Yo6p"
      },
      "source": [
        "### Решение\n",
        "\n",
        "Установим, различается ли средний рост этих трех групп при уровне значимости $\\alpha$, равном 0.05. Количество спортсменов в каждой группе: Футболисты - 8. Хоккеисты - 9. Штангисты - 11."
      ]
    },
    {
      "cell_type": "code",
      "metadata": {
        "id": "Og2fZ_bgYo6r"
      },
      "source": [
        "import numpy as np"
      ],
      "execution_count": 1,
      "outputs": []
    },
    {
      "cell_type": "code",
      "metadata": {
        "id": "5fzwL1OBYo61",
        "colab": {
          "base_uri": "https://localhost:8080/"
        },
        "outputId": "b0262608-2a31-499b-859c-6d4eabe992e7"
      },
      "source": [
        "n1 = 8\n",
        "n2 = 9\n",
        "n3 = 11\n",
        "n = n1 + n2 + n3\n",
        "print(n)"
      ],
      "execution_count": 2,
      "outputs": [
        {
          "output_type": "stream",
          "name": "stdout",
          "text": [
            "28\n"
          ]
        }
      ]
    },
    {
      "cell_type": "markdown",
      "metadata": {
        "id": "FJjbiTsqYo7E"
      },
      "source": [
        "Всего три группы:"
      ]
    },
    {
      "cell_type": "code",
      "metadata": {
        "id": "sz67ojVvYo7F"
      },
      "source": [
        "k = 3"
      ],
      "execution_count": 3,
      "outputs": []
    },
    {
      "cell_type": "markdown",
      "metadata": {
        "id": "O294_P_HYo7N"
      },
      "source": [
        "Рост каждой группы:"
      ]
    },
    {
      "cell_type": "code",
      "metadata": {
        "id": "XGE3QYnBYo7O"
      },
      "source": [
        "y1 = np.array([173, 175, 180, 178, 177, 185, 183, 182], dtype=np.float64)\n",
        "y2 = np.array([177, 179, 180, 188, 177, 172, 171, 184, 180], dtype=np.float64)\n",
        "y3 = np.array([172, 173, 169, 177, 166, 180, 178, 177, 172, 166, 170], dtype=np.float64)"
      ],
      "execution_count": 4,
      "outputs": []
    },
    {
      "cell_type": "markdown",
      "metadata": {
        "collapsed": true,
        "id": "ckgMBMwlYo7r"
      },
      "source": [
        "Проведем однофакторный дисперсионный анализ. Сначала найдем средний рост для каждого вида спорта:"
      ]
    },
    {
      "cell_type": "code",
      "metadata": {
        "id": "ZN6FRDI8Yo7s",
        "colab": {
          "base_uri": "https://localhost:8080/"
        },
        "outputId": "4de3febe-8b90-42e6-9515-8c7e9cc693a4"
      },
      "source": [
        "y1_mean = np.mean(y1)\n",
        "print(y1_mean)"
      ],
      "execution_count": 5,
      "outputs": [
        {
          "output_type": "stream",
          "name": "stdout",
          "text": [
            "179.125\n"
          ]
        }
      ]
    },
    {
      "cell_type": "code",
      "metadata": {
        "id": "8NIWa2kYYo73",
        "colab": {
          "base_uri": "https://localhost:8080/"
        },
        "outputId": "4692e090-6ef6-44b4-910f-b4200991bdc8"
      },
      "source": [
        "y2_mean = np.mean(y2)\n",
        "print(y2_mean)"
      ],
      "execution_count": 6,
      "outputs": [
        {
          "output_type": "stream",
          "name": "stdout",
          "text": [
            "178.66666666666666\n"
          ]
        }
      ]
    },
    {
      "cell_type": "code",
      "metadata": {
        "id": "w3iuWoo8Yo7_",
        "colab": {
          "base_uri": "https://localhost:8080/"
        },
        "outputId": "f12b18ae-a755-4bfa-f306-1bff0b8080b0"
      },
      "source": [
        "y3_mean = np.mean(y3)\n",
        "print(y3_mean)"
      ],
      "execution_count": 7,
      "outputs": [
        {
          "output_type": "stream",
          "name": "stdout",
          "text": [
            "172.72727272727272\n"
          ]
        }
      ]
    },
    {
      "cell_type": "markdown",
      "metadata": {
        "id": "Vptu9qE8Yo8H"
      },
      "source": [
        "Видно, что средний рост разнится. Установим, что это отличие статистически значимо. Для этого сначала соберем все значения в один массив:"
      ]
    },
    {
      "cell_type": "code",
      "metadata": {
        "id": "XUIg7A9IYo8K",
        "colab": {
          "base_uri": "https://localhost:8080/"
        },
        "outputId": "5e681578-92fd-4863-f1a7-1a41b054c745"
      },
      "source": [
        "y_all = np.concatenate([y1, y2, y3])\n",
        "y_all"
      ],
      "execution_count": 8,
      "outputs": [
        {
          "output_type": "execute_result",
          "data": {
            "text/plain": [
              "array([173., 175., 180., 178., 177., 185., 183., 182., 177., 179., 180.,\n",
              "       188., 177., 172., 171., 184., 180., 172., 173., 169., 177., 166.,\n",
              "       180., 178., 177., 172., 166., 170.])"
            ]
          },
          "metadata": {},
          "execution_count": 8
        }
      ]
    },
    {
      "cell_type": "markdown",
      "metadata": {
        "id": "FDrC2EgCYo8R"
      },
      "source": [
        "Найдем среднее значение роста по всем значениям:"
      ]
    },
    {
      "cell_type": "code",
      "metadata": {
        "id": "LrmBsYWlYo8U",
        "colab": {
          "base_uri": "https://localhost:8080/"
        },
        "outputId": "ad53d05e-95b3-4ccf-ac10-de2d61ca2ed7"
      },
      "source": [
        "y_mean = np.mean(y_all)\n",
        "print(y_mean)"
      ],
      "execution_count": 9,
      "outputs": [
        {
          "output_type": "stream",
          "name": "stdout",
          "text": [
            "176.46428571428572\n"
          ]
        }
      ]
    },
    {
      "cell_type": "markdown",
      "metadata": {
        "id": "WIgxrxamYo8e"
      },
      "source": [
        "Найдем $S^2$ - сумму квадратов отклонений наблюдений от общего среднего:"
      ]
    },
    {
      "cell_type": "code",
      "metadata": {
        "id": "g49G26gmYo8h",
        "colab": {
          "base_uri": "https://localhost:8080/"
        },
        "outputId": "f5a86fbe-6c28-41ca-ce8f-f9e43a5eded2"
      },
      "source": [
        "s2 = np.sum((y_all - y_mean)**2)\n",
        "s2"
      ],
      "execution_count": 10,
      "outputs": [
        {
          "output_type": "execute_result",
          "data": {
            "text/plain": [
              "830.9642857142854"
            ]
          },
          "metadata": {},
          "execution_count": 10
        }
      ]
    },
    {
      "cell_type": "markdown",
      "metadata": {
        "id": "4pbrI3QEYo8t"
      },
      "source": [
        "Найдем $S^2_F$ - сумму квадратов отклонений средних групповых значений от общего среднего:"
      ]
    },
    {
      "cell_type": "code",
      "metadata": {
        "id": "K0nyMwvGYo8w",
        "colab": {
          "base_uri": "https://localhost:8080/"
        },
        "outputId": "39396ef1-2205-4620-b92a-ac56db12b05e"
      },
      "source": [
        "s2_f = ((y1_mean - y_mean)**2) * n1 + ((y2_mean - y_mean)**2) * n2 + ((y3_mean - y_mean)**2) * n3\n",
        "s2_f"
      ],
      "execution_count": 11,
      "outputs": [
        {
          "output_type": "execute_result",
          "data": {
            "text/plain": [
              "253.9074675324678"
            ]
          },
          "metadata": {},
          "execution_count": 11
        }
      ]
    },
    {
      "cell_type": "markdown",
      "metadata": {
        "id": "6Y3bn04xYo87"
      },
      "source": [
        "Найдем $S^2_{ост}$ — остаточную сумму квадратов отклонений:"
      ]
    },
    {
      "cell_type": "code",
      "metadata": {
        "id": "YYLdNXsIyIYn",
        "colab": {
          "base_uri": "https://localhost:8080/"
        },
        "outputId": "a060dcf0-6a92-4f43-e61d-d1d4810b8f21"
      },
      "source": [
        "s2_residual = np.sum((y1 - y1_mean)**2) + np.sum((y2 - y2_mean)**2) + np.sum((y3 - y3_mean)**2)\n",
        "s2_residual"
      ],
      "execution_count": 12,
      "outputs": [
        {
          "output_type": "execute_result",
          "data": {
            "text/plain": [
              "577.0568181818182"
            ]
          },
          "metadata": {},
          "execution_count": 12
        }
      ]
    },
    {
      "cell_type": "markdown",
      "metadata": {
        "id": "r_o1uLOYYo9F"
      },
      "source": [
        "Удостоверимся, что соблюдается равенство $S^2 = S_F^2 + S_{ост}^2$:"
      ]
    },
    {
      "cell_type": "code",
      "metadata": {
        "id": "s4om9JoYYo9H",
        "colab": {
          "base_uri": "https://localhost:8080/"
        },
        "outputId": "1bee2ef6-0a1c-47d5-a595-59abb7465d65"
      },
      "source": [
        "print(s2)\n",
        "print(s2_f + s2_residual)"
      ],
      "execution_count": 13,
      "outputs": [
        {
          "output_type": "stream",
          "name": "stdout",
          "text": [
            "830.9642857142854\n",
            "830.964285714286\n"
          ]
        }
      ]
    },
    {
      "cell_type": "markdown",
      "metadata": {
        "id": "0CSn3JPbYo9N"
      },
      "source": [
        "Найдем общую дисперсию:"
      ]
    },
    {
      "cell_type": "code",
      "metadata": {
        "id": "poku5it4Yo9O",
        "colab": {
          "base_uri": "https://localhost:8080/"
        },
        "outputId": "796d031e-0d60-4c25-ca99-ecc0be4cb579"
      },
      "source": [
        "sigma2_general = s2 / (n - 1)\n",
        "sigma2_general"
      ],
      "execution_count": 14,
      "outputs": [
        {
          "output_type": "execute_result",
          "data": {
            "text/plain": [
              "30.776455026455015"
            ]
          },
          "metadata": {},
          "execution_count": 14
        }
      ]
    },
    {
      "cell_type": "markdown",
      "metadata": {
        "id": "GpuU4kg0Yo9W"
      },
      "source": [
        "Найдем факторную дисперсию:"
      ]
    },
    {
      "cell_type": "code",
      "metadata": {
        "id": "LDEml9L-Yo9Z",
        "colab": {
          "base_uri": "https://localhost:8080/"
        },
        "outputId": "27e9e033-cad0-4210-db3f-fdd8a8f9c1e6"
      },
      "source": [
        "sigma2_f = s2_f / (k - 1)\n",
        "sigma2_f"
      ],
      "execution_count": 15,
      "outputs": [
        {
          "output_type": "execute_result",
          "data": {
            "text/plain": [
              "126.9537337662339"
            ]
          },
          "metadata": {},
          "execution_count": 15
        }
      ]
    },
    {
      "cell_type": "markdown",
      "metadata": {
        "id": "G5vpR7jyYo9j"
      },
      "source": [
        "Найдем остаточную дисперсию:"
      ]
    },
    {
      "cell_type": "code",
      "metadata": {
        "id": "KeWVYYHfYo9r",
        "colab": {
          "base_uri": "https://localhost:8080/"
        },
        "outputId": "4b30f4d3-d183-4852-aec9-a8ff69fa0054"
      },
      "source": [
        "sigma2_residual = s2_residual / (n - k)\n",
        "sigma2_residual"
      ],
      "execution_count": 16,
      "outputs": [
        {
          "output_type": "execute_result",
          "data": {
            "text/plain": [
              "23.08227272727273"
            ]
          },
          "metadata": {},
          "execution_count": 16
        }
      ]
    },
    {
      "cell_type": "markdown",
      "metadata": {
        "id": "uQirLWssYo9x"
      },
      "source": [
        "Вычислим $F_H$:"
      ]
    },
    {
      "cell_type": "code",
      "metadata": {
        "id": "W9QELM6VYo91",
        "colab": {
          "base_uri": "https://localhost:8080/"
        },
        "outputId": "f18ab95f-5e18-4d10-98a8-0985e3e73dbd"
      },
      "source": [
        "F_h = sigma2_f / sigma2_residual\n",
        "F_h"
      ],
      "execution_count": 17,
      "outputs": [
        {
          "output_type": "execute_result",
          "data": {
            "text/plain": [
              "5.500053450812598"
            ]
          },
          "metadata": {},
          "execution_count": 17
        }
      ]
    },
    {
      "cell_type": "markdown",
      "metadata": {
        "id": "7pw0jHLlYo9-"
      },
      "source": [
        "Найдем значение $F_{крит}$ в таблице критических точек распределения Фишера-Снедекора для заданного уровня значимости $\\alpha = 0.05$ и двух степеней свободы: \n",
        "\n",
        "$df_{межд} = k - 1 = 3 - 1 = 2$ и $df_{внутр} = n - k = 28 - 3 = 25$."
      ]
    },
    {
      "cell_type": "markdown",
      "metadata": {
        "id": "WPLuwwbyYo9_"
      },
      "source": [
        "Для данных значений $F_{крит} = 3.38$. Так как $F_H > F_{крит}$, различие среднего роста в трех группах статистически значимо."
      ]
    },
    {
      "cell_type": "markdown",
      "metadata": {
        "id": "gIRQ9JRKYo-B"
      },
      "source": [
        "Также вычислим эмпирическое корреляционное отношение $\\eta^2$:\n"
      ]
    },
    {
      "cell_type": "code",
      "metadata": {
        "id": "jb2skTGMYo-D",
        "colab": {
          "base_uri": "https://localhost:8080/"
        },
        "outputId": "a2ca6de9-384d-4df5-bf1c-cb98d60adf11"
      },
      "source": [
        "eta2 = s2_f / s2\n",
        "eta2"
      ],
      "execution_count": 18,
      "outputs": [
        {
          "output_type": "execute_result",
          "data": {
            "text/plain": [
              "0.30555761769498"
            ]
          },
          "metadata": {},
          "execution_count": 18
        }
      ]
    },
    {
      "cell_type": "markdown",
      "metadata": {
        "id": "M2g7FJjJYo-M"
      },
      "source": [
        "Таким образом, только на 31% вариация роста обусловлена различиями между видами спорта, а на 69% - другими факторами."
      ]
    }
  ]
}